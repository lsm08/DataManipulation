{
 "cells": [
  {
   "cell_type": "markdown",
   "id": "d2d52186",
   "metadata": {},
   "source": [
    "# Welcome to the Data Manipulation Lesson.\n",
    "## Notebook 1\n",
    "\n",
    "In this lesson, we will be using this workbook in tandum with the reading assignments.\n",
    "\n",
    "The workbook has been broken up into three sections.  Each section has reading assignments and is followed by questions and prompts for you to work through.\n",
    "\n",
    "In [your Canvas](https://launchcode.instructure.com/courses/14/quizzes/569), you will find the reading quiz.  "
   ]
  },
  {
   "cell_type": "code",
   "execution_count": 1,
   "id": "b781c5c2",
   "metadata": {
    "tags": []
   },
   "outputs": [],
   "source": [
    "import pandas as pd\n",
    "import numpy as np\n",
    "\n",
    "data= pd.read_csv(\"titanic.csv\")"
   ]
  },
  {
   "cell_type": "markdown",
   "id": "2a701fe6",
   "metadata": {},
   "source": [
    "## Before You Get Started\n",
    "\n",
    "We are going to be using the Titanic Dataset. Make sure to run a head() before you start working with manipulation methods."
   ]
  },
  {
   "cell_type": "code",
   "execution_count": 2,
   "id": "bfa6771a",
   "metadata": {
    "tags": []
   },
   "outputs": [
    {
     "data": {
      "text/html": [
       "<div>\n",
       "<style scoped>\n",
       "    .dataframe tbody tr th:only-of-type {\n",
       "        vertical-align: middle;\n",
       "    }\n",
       "\n",
       "    .dataframe tbody tr th {\n",
       "        vertical-align: top;\n",
       "    }\n",
       "\n",
       "    .dataframe thead th {\n",
       "        text-align: right;\n",
       "    }\n",
       "</style>\n",
       "<table border=\"1\" class=\"dataframe\">\n",
       "  <thead>\n",
       "    <tr style=\"text-align: right;\">\n",
       "      <th></th>\n",
       "      <th>survived</th>\n",
       "      <th>pclass</th>\n",
       "      <th>sex</th>\n",
       "      <th>age</th>\n",
       "      <th>sibsp</th>\n",
       "      <th>parch</th>\n",
       "      <th>fare</th>\n",
       "      <th>embarked</th>\n",
       "      <th>class</th>\n",
       "      <th>who</th>\n",
       "      <th>adult_male</th>\n",
       "      <th>deck</th>\n",
       "      <th>embark_town</th>\n",
       "      <th>alive</th>\n",
       "      <th>alone</th>\n",
       "    </tr>\n",
       "  </thead>\n",
       "  <tbody>\n",
       "    <tr>\n",
       "      <th>0</th>\n",
       "      <td>0</td>\n",
       "      <td>3</td>\n",
       "      <td>male</td>\n",
       "      <td>22.0</td>\n",
       "      <td>1</td>\n",
       "      <td>0</td>\n",
       "      <td>7.2500</td>\n",
       "      <td>S</td>\n",
       "      <td>Third</td>\n",
       "      <td>man</td>\n",
       "      <td>True</td>\n",
       "      <td>NaN</td>\n",
       "      <td>Southampton</td>\n",
       "      <td>no</td>\n",
       "      <td>False</td>\n",
       "    </tr>\n",
       "    <tr>\n",
       "      <th>1</th>\n",
       "      <td>1</td>\n",
       "      <td>1</td>\n",
       "      <td>female</td>\n",
       "      <td>38.0</td>\n",
       "      <td>1</td>\n",
       "      <td>0</td>\n",
       "      <td>71.2833</td>\n",
       "      <td>C</td>\n",
       "      <td>First</td>\n",
       "      <td>woman</td>\n",
       "      <td>False</td>\n",
       "      <td>C</td>\n",
       "      <td>Cherbourg</td>\n",
       "      <td>yes</td>\n",
       "      <td>False</td>\n",
       "    </tr>\n",
       "    <tr>\n",
       "      <th>2</th>\n",
       "      <td>1</td>\n",
       "      <td>3</td>\n",
       "      <td>female</td>\n",
       "      <td>26.0</td>\n",
       "      <td>0</td>\n",
       "      <td>0</td>\n",
       "      <td>7.9250</td>\n",
       "      <td>S</td>\n",
       "      <td>Third</td>\n",
       "      <td>woman</td>\n",
       "      <td>False</td>\n",
       "      <td>NaN</td>\n",
       "      <td>Southampton</td>\n",
       "      <td>yes</td>\n",
       "      <td>True</td>\n",
       "    </tr>\n",
       "    <tr>\n",
       "      <th>3</th>\n",
       "      <td>1</td>\n",
       "      <td>1</td>\n",
       "      <td>female</td>\n",
       "      <td>35.0</td>\n",
       "      <td>1</td>\n",
       "      <td>0</td>\n",
       "      <td>53.1000</td>\n",
       "      <td>S</td>\n",
       "      <td>First</td>\n",
       "      <td>woman</td>\n",
       "      <td>False</td>\n",
       "      <td>C</td>\n",
       "      <td>Southampton</td>\n",
       "      <td>yes</td>\n",
       "      <td>False</td>\n",
       "    </tr>\n",
       "    <tr>\n",
       "      <th>4</th>\n",
       "      <td>0</td>\n",
       "      <td>3</td>\n",
       "      <td>male</td>\n",
       "      <td>35.0</td>\n",
       "      <td>0</td>\n",
       "      <td>0</td>\n",
       "      <td>8.0500</td>\n",
       "      <td>S</td>\n",
       "      <td>Third</td>\n",
       "      <td>man</td>\n",
       "      <td>True</td>\n",
       "      <td>NaN</td>\n",
       "      <td>Southampton</td>\n",
       "      <td>no</td>\n",
       "      <td>True</td>\n",
       "    </tr>\n",
       "  </tbody>\n",
       "</table>\n",
       "</div>"
      ],
      "text/plain": [
       "   survived  pclass     sex   age  sibsp  parch     fare embarked  class  \\\n",
       "0         0       3    male  22.0      1      0   7.2500        S  Third   \n",
       "1         1       1  female  38.0      1      0  71.2833        C  First   \n",
       "2         1       3  female  26.0      0      0   7.9250        S  Third   \n",
       "3         1       1  female  35.0      1      0  53.1000        S  First   \n",
       "4         0       3    male  35.0      0      0   8.0500        S  Third   \n",
       "\n",
       "     who  adult_male deck  embark_town alive  alone  \n",
       "0    man        True  NaN  Southampton    no  False  \n",
       "1  woman       False    C    Cherbourg   yes  False  \n",
       "2  woman       False  NaN  Southampton   yes   True  \n",
       "3  woman       False    C  Southampton   yes  False  \n",
       "4    man        True  NaN  Southampton    no   True  "
      ]
     },
     "execution_count": 2,
     "metadata": {},
     "output_type": "execute_result"
    }
   ],
   "source": [
    "# Run the head of your data set here:\n",
    "data.head()"
   ]
  },
  {
   "cell_type": "code",
   "execution_count": 30,
   "id": "90fb6f46",
   "metadata": {
    "tags": []
   },
   "outputs": [
    {
     "name": "stdout",
     "output_type": "stream",
     "text": [
      "(784, 15)\n"
     ]
    },
    {
     "data": {
      "text/plain": [
       "0"
      ]
     },
     "execution_count": 30,
     "metadata": {},
     "output_type": "execute_result"
    }
   ],
   "source": [
    "# check for duplicates\n",
    "print(data.shape)\n",
    "duplicates = data.duplicated()\n",
    "duplicates.sum()"
   ]
  },
  {
   "cell_type": "code",
   "execution_count": 31,
   "id": "dddfd9e9",
   "metadata": {
    "tags": []
   },
   "outputs": [
    {
     "name": "stdout",
     "output_type": "stream",
     "text": [
      "(784, 15)\n"
     ]
    }
   ],
   "source": [
    "# if there are, go ahead and drop them:\n",
    "data.drop_duplicates(inplace=True)\n",
    "print(data.shape)"
   ]
  },
  {
   "cell_type": "markdown",
   "id": "0f70caa2",
   "metadata": {},
   "source": [
    "### Cleaning Note:\n",
    "\n",
    "While the columns are not the \"prettiest\", don't adjust any of them yet. We are going to update some values and add some values as we workthrough this notebook. Applologies for the extra visual \"noise\" on your screen. You will be given the option to tidy up the columns at the end of this notebook."
   ]
  },
  {
   "cell_type": "markdown",
   "id": "11789dff",
   "metadata": {},
   "source": [
    "## Running Tables Note:  \n",
    "If your tables don't appear to have accepted your changes, try the \"Run All\" option in the \"Cell\" section of the menu bar.  "
   ]
  },
  {
   "cell_type": "markdown",
   "id": "a4104f7d",
   "metadata": {},
   "source": [
    "<span style=\"background-color:dodgerblue; color:dodgerblue;\">- - - - - - - - - - - - - - - - - - - - - - - - - - - - - - - - - - - - - - - - - - - - - - - - - - - - - - - - - - - - - - - - - - - - - - - - - - - - - - - - - - - - - - - - -</span> "
   ]
  },
  {
   "cell_type": "markdown",
   "id": "0948036e",
   "metadata": {},
   "source": [
    "# A. Aggregation\n",
    "\n",
    "1. Please read the following:\n",
    "    - [Python | Pandas dataframe.aggregate()](https://www.geeksforgeeks.org/python-pandas-dataframe-aggregate/)\n",
    "    - [Python | Pandas dataframe.groupby()](https://www.geeksforgeeks.org/python-pandas-dataframe-groupby/)\n",
    "1. Answer the Check Your Understanding Questions in your Canvas account.\n",
    "1. Work through the section Exercises.  \n",
    "    - There are 4 sections in part A:\n",
    "        - Groupby\n",
    "        - Aggregation Methods\n",
    "        - Groupby and Basic Math\n",
    "        - Groupby and Multiple Aggregations\n"
   ]
  },
  {
   "cell_type": "markdown",
   "id": "1116d353",
   "metadata": {},
   "source": [
    "#### Creating Variables.\n",
    "\n",
    "As we begin to manipulate our data, create new variables to store your work in.  This will keep your original data in tact.  Having the original dataset available will save you time with each manipulation.  You can also create variable names that inform you of the purpose of the manipulation.  "
   ]
  },
  {
   "cell_type": "markdown",
   "id": "0621dc21",
   "metadata": {},
   "source": [
    "### 1: Groupby <span style=\"color:dodgerblue;\"> - - - - - - - - - - - - - - - - - - - - - - - - - - - - - - - - - - - - - - - - - - - - - - - - - - - </span> "
   ]
  },
  {
   "cell_type": "markdown",
   "id": "c89219ea",
   "metadata": {},
   "source": [
    "#### Groupby \"embark_town\"\n",
    "\n",
    "1. Using the titanic data set, groupby \"embark_town\".\n",
    "1. Create a variable that will represent the grouping of data. \n",
    "1. Intitalize it using the groupby() function and pass it the column.\n"
   ]
  },
  {
   "cell_type": "code",
   "execution_count": 32,
   "id": "34322f41",
   "metadata": {},
   "outputs": [],
   "source": [
    "# Code your groupby \"embark_town\" here:\n",
    "grp =data.groupby('embark_town')\n"
   ]
  },
  {
   "cell_type": "raw",
   "id": "c6de5847-01f1-41e1-b3f7-2fa2f5a6651b",
   "metadata": {},
   "source": [
    "# To view the grouped data as a table, use the variable_name.first\n",
    "grp.first()"
   ]
  },
  {
   "cell_type": "markdown",
   "id": "0ffc226e",
   "metadata": {},
   "source": [
    "#### Groupby \"survived\"\n",
    "\n",
    "Did you know that you can also chain on some of our exploratory methods to the groupby method?\n",
    "\n",
    "1. Create & initalize a new variable to hold a table that will groupby \"survived\" \n",
    "1. Use method chaining to tack on the describe method"
   ]
  },
  {
   "cell_type": "code",
   "execution_count": 34,
   "id": "3e9afd3a",
   "metadata": {},
   "outputs": [
    {
     "data": {
      "text/html": [
       "<div>\n",
       "<style scoped>\n",
       "    .dataframe tbody tr th:only-of-type {\n",
       "        vertical-align: middle;\n",
       "    }\n",
       "\n",
       "    .dataframe tbody tr th {\n",
       "        vertical-align: top;\n",
       "    }\n",
       "\n",
       "    .dataframe thead th {\n",
       "        text-align: right;\n",
       "    }\n",
       "</style>\n",
       "<table border=\"1\" class=\"dataframe\">\n",
       "  <thead>\n",
       "    <tr style=\"text-align: right;\">\n",
       "      <th></th>\n",
       "      <th>pclass</th>\n",
       "      <th>sex</th>\n",
       "      <th>age</th>\n",
       "      <th>sibsp</th>\n",
       "      <th>parch</th>\n",
       "      <th>fare</th>\n",
       "      <th>embarked</th>\n",
       "      <th>class</th>\n",
       "      <th>who</th>\n",
       "      <th>adult_male</th>\n",
       "      <th>deck</th>\n",
       "      <th>embark_town</th>\n",
       "      <th>alive</th>\n",
       "      <th>alone</th>\n",
       "    </tr>\n",
       "    <tr>\n",
       "      <th>survived</th>\n",
       "      <th></th>\n",
       "      <th></th>\n",
       "      <th></th>\n",
       "      <th></th>\n",
       "      <th></th>\n",
       "      <th></th>\n",
       "      <th></th>\n",
       "      <th></th>\n",
       "      <th></th>\n",
       "      <th></th>\n",
       "      <th></th>\n",
       "      <th></th>\n",
       "      <th></th>\n",
       "      <th></th>\n",
       "    </tr>\n",
       "  </thead>\n",
       "  <tbody>\n",
       "    <tr>\n",
       "      <th>0</th>\n",
       "      <td>3</td>\n",
       "      <td>male</td>\n",
       "      <td>22.0</td>\n",
       "      <td>1</td>\n",
       "      <td>0</td>\n",
       "      <td>7.2500</td>\n",
       "      <td>S</td>\n",
       "      <td>Third</td>\n",
       "      <td>man</td>\n",
       "      <td>True</td>\n",
       "      <td>E</td>\n",
       "      <td>Southampton</td>\n",
       "      <td>no</td>\n",
       "      <td>False</td>\n",
       "    </tr>\n",
       "    <tr>\n",
       "      <th>1</th>\n",
       "      <td>1</td>\n",
       "      <td>female</td>\n",
       "      <td>38.0</td>\n",
       "      <td>1</td>\n",
       "      <td>0</td>\n",
       "      <td>71.2833</td>\n",
       "      <td>C</td>\n",
       "      <td>First</td>\n",
       "      <td>woman</td>\n",
       "      <td>False</td>\n",
       "      <td>C</td>\n",
       "      <td>Cherbourg</td>\n",
       "      <td>yes</td>\n",
       "      <td>False</td>\n",
       "    </tr>\n",
       "  </tbody>\n",
       "</table>\n",
       "</div>"
      ],
      "text/plain": [
       "          pclass     sex   age  sibsp  parch     fare embarked  class    who  \\\n",
       "survived                                                                       \n",
       "0              3    male  22.0      1      0   7.2500        S  Third    man   \n",
       "1              1  female  38.0      1      0  71.2833        C  First  woman   \n",
       "\n",
       "          adult_male deck  embark_town alive  alone  \n",
       "survived                                             \n",
       "0               True    E  Southampton    no  False  \n",
       "1              False    C    Cherbourg   yes  False  "
      ]
     },
     "execution_count": 34,
     "metadata": {},
     "output_type": "execute_result"
    }
   ],
   "source": [
    "# Code your groupby \"survived\" table here:\n",
    "grp_survived = data.groupby('survived')\n",
    "\n",
    "# run your table below:\n",
    "grp_survived.first()\n"
   ]
  },
  {
   "cell_type": "code",
   "execution_count": 7,
   "id": "e218b79b",
   "metadata": {},
   "outputs": [
    {
     "data": {
      "text/html": [
       "<div>\n",
       "<style scoped>\n",
       "    .dataframe tbody tr th:only-of-type {\n",
       "        vertical-align: middle;\n",
       "    }\n",
       "\n",
       "    .dataframe tbody tr th {\n",
       "        vertical-align: top;\n",
       "    }\n",
       "\n",
       "    .dataframe thead tr th {\n",
       "        text-align: left;\n",
       "    }\n",
       "\n",
       "    .dataframe thead tr:last-of-type th {\n",
       "        text-align: right;\n",
       "    }\n",
       "</style>\n",
       "<table border=\"1\" class=\"dataframe\">\n",
       "  <thead>\n",
       "    <tr>\n",
       "      <th></th>\n",
       "      <th colspan=\"8\" halign=\"left\">pclass</th>\n",
       "      <th colspan=\"2\" halign=\"left\">age</th>\n",
       "      <th>...</th>\n",
       "      <th colspan=\"2\" halign=\"left\">parch</th>\n",
       "      <th colspan=\"8\" halign=\"left\">fare</th>\n",
       "    </tr>\n",
       "    <tr>\n",
       "      <th></th>\n",
       "      <th>count</th>\n",
       "      <th>mean</th>\n",
       "      <th>std</th>\n",
       "      <th>min</th>\n",
       "      <th>25%</th>\n",
       "      <th>50%</th>\n",
       "      <th>75%</th>\n",
       "      <th>max</th>\n",
       "      <th>count</th>\n",
       "      <th>mean</th>\n",
       "      <th>...</th>\n",
       "      <th>75%</th>\n",
       "      <th>max</th>\n",
       "      <th>count</th>\n",
       "      <th>mean</th>\n",
       "      <th>std</th>\n",
       "      <th>min</th>\n",
       "      <th>25%</th>\n",
       "      <th>50%</th>\n",
       "      <th>75%</th>\n",
       "      <th>max</th>\n",
       "    </tr>\n",
       "    <tr>\n",
       "      <th>survived</th>\n",
       "      <th></th>\n",
       "      <th></th>\n",
       "      <th></th>\n",
       "      <th></th>\n",
       "      <th></th>\n",
       "      <th></th>\n",
       "      <th></th>\n",
       "      <th></th>\n",
       "      <th></th>\n",
       "      <th></th>\n",
       "      <th></th>\n",
       "      <th></th>\n",
       "      <th></th>\n",
       "      <th></th>\n",
       "      <th></th>\n",
       "      <th></th>\n",
       "      <th></th>\n",
       "      <th></th>\n",
       "      <th></th>\n",
       "      <th></th>\n",
       "      <th></th>\n",
       "    </tr>\n",
       "  </thead>\n",
       "  <tbody>\n",
       "    <tr>\n",
       "      <th>0</th>\n",
       "      <td>461.0</td>\n",
       "      <td>2.481562</td>\n",
       "      <td>0.770507</td>\n",
       "      <td>1.0</td>\n",
       "      <td>2.0</td>\n",
       "      <td>3.0</td>\n",
       "      <td>3.0</td>\n",
       "      <td>3.0</td>\n",
       "      <td>394.0</td>\n",
       "      <td>30.953046</td>\n",
       "      <td>...</td>\n",
       "      <td>0.0</td>\n",
       "      <td>6.0</td>\n",
       "      <td>461.0</td>\n",
       "      <td>23.944531</td>\n",
       "      <td>33.336385</td>\n",
       "      <td>0.0</td>\n",
       "      <td>7.875</td>\n",
       "      <td>13.00</td>\n",
       "      <td>26.55000</td>\n",
       "      <td>263.0000</td>\n",
       "    </tr>\n",
       "    <tr>\n",
       "      <th>1</th>\n",
       "      <td>323.0</td>\n",
       "      <td>1.904025</td>\n",
       "      <td>0.856152</td>\n",
       "      <td>1.0</td>\n",
       "      <td>1.0</td>\n",
       "      <td>2.0</td>\n",
       "      <td>3.0</td>\n",
       "      <td>3.0</td>\n",
       "      <td>284.0</td>\n",
       "      <td>28.365915</td>\n",
       "      <td>...</td>\n",
       "      <td>1.0</td>\n",
       "      <td>5.0</td>\n",
       "      <td>323.0</td>\n",
       "      <td>50.079180</td>\n",
       "      <td>68.009971</td>\n",
       "      <td>0.0</td>\n",
       "      <td>12.825</td>\n",
       "      <td>26.25</td>\n",
       "      <td>61.37915</td>\n",
       "      <td>512.3292</td>\n",
       "    </tr>\n",
       "  </tbody>\n",
       "</table>\n",
       "<p>2 rows × 40 columns</p>\n",
       "</div>"
      ],
      "text/plain": [
       "         pclass                                                 age  \\\n",
       "          count      mean       std  min  25%  50%  75%  max  count   \n",
       "survived                                                              \n",
       "0         461.0  2.481562  0.770507  1.0  2.0  3.0  3.0  3.0  394.0   \n",
       "1         323.0  1.904025  0.856152  1.0  1.0  2.0  3.0  3.0  284.0   \n",
       "\n",
       "                     ... parch        fare                                     \\\n",
       "               mean  ...   75%  max  count       mean        std  min     25%   \n",
       "survived             ...                                                        \n",
       "0         30.953046  ...   0.0  6.0  461.0  23.944531  33.336385  0.0   7.875   \n",
       "1         28.365915  ...   1.0  5.0  323.0  50.079180  68.009971  0.0  12.825   \n",
       "\n",
       "                                     \n",
       "            50%       75%       max  \n",
       "survived                             \n",
       "0         13.00  26.55000  263.0000  \n",
       "1         26.25  61.37915  512.3292  \n",
       "\n",
       "[2 rows x 40 columns]"
      ]
     },
     "execution_count": 7,
     "metadata": {},
     "output_type": "execute_result"
    }
   ],
   "source": [
    "# run your table with describe\n",
    "grp_survived.describe()"
   ]
  },
  {
   "cell_type": "code",
   "execution_count": 8,
   "id": "25c917d1",
   "metadata": {},
   "outputs": [],
   "source": [
    "# How is this table organized?  Why are there 40 columns now?\n",
    "\n",
    "aggregated method returns a datafarame.so may be the aggregated functions also added as columns=="
   ]
  },
  {
   "cell_type": "markdown",
   "id": "42783c6d",
   "metadata": {},
   "source": [
    "### 2. Aggregation Methods <span style=\"color:dodgerblue;\"> - - - - - - - - - - - - - - - - - - - - - - - - - - - - - - - - - - - - - - - - - - - - - - - - - - - </span> "
   ]
  },
  {
   "cell_type": "markdown",
   "id": "3af74f16",
   "metadata": {},
   "source": [
    "Note: **agg()** and **aggregate()** are identical [source](https://pandas.pydata.org/docs/reference/api/pandas.DataFrame.aggregate.html)"
   ]
  },
  {
   "cell_type": "markdown",
   "id": "14147835",
   "metadata": {},
   "source": [
    "#### Method Chaining\n",
    "\n",
    "1. Create a variable to method chain **head()** and **agg()** togehter.\n",
    "1. Pass one of the following statistical values to **agg()**\n",
    "   - \"mean\", \"median\", \"mode\", \"min\", \"max\", \"std\", \"var\", \"first\", \"last\", \"sum\""
   ]
  },
  {
   "cell_type": "code",
   "execution_count": 9,
   "id": "312a7c2f",
   "metadata": {},
   "outputs": [
    {
     "data": {
      "text/plain": [
       "0     7.2500\n",
       "1    71.2833\n",
       "2     7.9250\n",
       "3    53.1000\n",
       "4     8.0500\n",
       "Name: fare, dtype: float64"
      ]
     },
     "execution_count": 9,
     "metadata": {},
     "output_type": "execute_result"
    }
   ],
   "source": [
    "# Code your method chain here:\n",
    "ch=data.agg('fare').head()  \n",
    "ch "
   ]
  },
  {
   "cell_type": "code",
   "execution_count": 38,
   "id": "089919c2",
   "metadata": {},
   "outputs": [
    {
     "data": {
      "text/html": [
       "<div>\n",
       "<style scoped>\n",
       "    .dataframe tbody tr th:only-of-type {\n",
       "        vertical-align: middle;\n",
       "    }\n",
       "\n",
       "    .dataframe tbody tr th {\n",
       "        vertical-align: top;\n",
       "    }\n",
       "\n",
       "    .dataframe thead th {\n",
       "        text-align: right;\n",
       "    }\n",
       "</style>\n",
       "<table border=\"1\" class=\"dataframe\">\n",
       "  <thead>\n",
       "    <tr style=\"text-align: right;\">\n",
       "      <th></th>\n",
       "      <th>fare</th>\n",
       "    </tr>\n",
       "  </thead>\n",
       "  <tbody>\n",
       "    <tr>\n",
       "      <th>sum</th>\n",
       "      <td>27214.0039</td>\n",
       "    </tr>\n",
       "    <tr>\n",
       "      <th>max</th>\n",
       "      <td>512.3292</td>\n",
       "    </tr>\n",
       "    <tr>\n",
       "      <th>min</th>\n",
       "      <td>0.0000</td>\n",
       "    </tr>\n",
       "  </tbody>\n",
       "</table>\n",
       "</div>"
      ],
      "text/plain": [
       "           fare\n",
       "sum  27214.0039\n",
       "max    512.3292\n",
       "min      0.0000"
      ]
     },
     "execution_count": 38,
     "metadata": {},
     "output_type": "execute_result"
    }
   ],
   "source": [
    "# Create a variable to method chain head() with agg(\"sum\")\n",
    "chs = data.agg({'fare':['sum','max','min']}).head()\n",
    "# run your table:\n",
    "chs"
   ]
  },
  {
   "cell_type": "code",
   "execution_count": 11,
   "id": "29e72d3b",
   "metadata": {},
   "outputs": [],
   "source": [
    "# Explain the sum table.  What is going on with the \"sex\", \"class\", and \"alive\" columns?\n",
    "\n",
    "# sum tables gives the result of max and min fare of each passenger and sum of the fares of all passengers."
   ]
  },
  {
   "cell_type": "markdown",
   "id": "8f370f65",
   "metadata": {},
   "source": [
    "#### Using a Dictionary <span style=\"color:darkorange;\"> - - - - - - - - - - - - - - - - - - - - - - - - - - - - - - - - - - - - - - - - - - - - - - - - - - - </span> \n",
    "##### A dictionary is a Python collection type.  \n",
    "\n",
    "Is a collection type that stores **key-value pairs**.  A key-value pair is an orgainzation system that is made up of a single *key* that has one or more *values* paired with it.  \n",
    "Think of it like your contacts list.  The contacts list is the dictionary object.  \n",
    "Each contact is organized by a key, usually name.  And attached to each name is contact information, or the values.\n",
    "Some contacts might have email address, phone number, home or work address, etc. Other contacts may just be a name and phone number.  This is a very simple example, but understanding this orgainzational structure will be helpful as you learn to manipulate tables.  \n",
    "\n",
    "*Here is a dictionary example with 3 keys:*\n",
    ">**contacts_dictionary = {\"name1\": [\"email\", 555-5552, \"work info\"], \n",
    "      \"name2\": [\"email\", 555-5554],\n",
    "      \"name3\": 555-5555}**\n",
    "                     \n",
    "*Here is a dictionary example with a single key-value pair*\n",
    "**study_group_dictionary = {\"name1\": 555-5557}**   \n",
    "\n",
    "It has a single key, and a list of values. The organization of this structure is called a \"Key-Value Pair\".\n",
    "Using the contact list example, the key would be the name of the person and the values would be their contact information.  The key is a single item (the person's name) and the values can be a single item (an email address) or mulitple items (email, phone number, address, work info, etc).\n",
    "Keys and values can be any data type, but must use correct data type syntax.  The keys do not have to be strings, but they do need to be a single value.  \n",
    "\n",
    "For more information, you can read more on dictionary objects [here](https://www.w3schools.com/python/python_dictionaries.asp).\n"
   ]
  },
  {
   "cell_type": "markdown",
   "id": "ac1059cd",
   "metadata": {},
   "source": [
    "#### Aggregation across muliple columns using dictionary functionality\n",
    "\n",
    "##### Syntax Example:\n",
    "\n",
    "**age_dictionary={\"age\":[\"sum\", \"max\"]}**\n",
    "\n",
    "We are creating a new dictionary (**age_dictionary**).  The key is **age** and the values we want are **\"sum\"\"** and **\"max\"**.  This dictionary object has now become a tempate for the aggregations we want to preform.  However, on it's own, it does nothing.  Once passed to the **agg()** method, it will pick out the specific location of data we want to examine.  Making a subset table.  \n",
    "\n",
    "The code is contained in the box below.  Run it and see what happens.\n",
    "\n",
    "\n",
    "For syntax examples, review [this webpage](https://www.geeksforgeeks.org/python-pandas-dataframe-aggregate/).\n",
    "#### <span style=\"color:coral;\"> - - - - - - - - - - - - - - - - - - - - - - - - - - - - - - - - - - - - - - - - - - - - - - - - - - - </span>"
   ]
  },
  {
   "cell_type": "code",
   "execution_count": 40,
   "id": "89392dec",
   "metadata": {},
   "outputs": [
    {
     "data": {
      "text/html": [
       "<div>\n",
       "<style scoped>\n",
       "    .dataframe tbody tr th:only-of-type {\n",
       "        vertical-align: middle;\n",
       "    }\n",
       "\n",
       "    .dataframe tbody tr th {\n",
       "        vertical-align: top;\n",
       "    }\n",
       "\n",
       "    .dataframe thead th {\n",
       "        text-align: right;\n",
       "    }\n",
       "</style>\n",
       "<table border=\"1\" class=\"dataframe\">\n",
       "  <thead>\n",
       "    <tr style=\"text-align: right;\">\n",
       "      <th></th>\n",
       "      <th>age</th>\n",
       "    </tr>\n",
       "  </thead>\n",
       "  <tbody>\n",
       "    <tr>\n",
       "      <th>sum</th>\n",
       "      <td>20251.42</td>\n",
       "    </tr>\n",
       "    <tr>\n",
       "      <th>max</th>\n",
       "      <td>80.00</td>\n",
       "    </tr>\n",
       "  </tbody>\n",
       "</table>\n",
       "</div>"
      ],
      "text/plain": [
       "          age\n",
       "sum  20251.42\n",
       "max     80.00"
      ]
     },
     "execution_count": 40,
     "metadata": {},
     "output_type": "execute_result"
    }
   ],
   "source": [
    "# Predict the table output before you uncomment the code below.\n",
    "\n",
    "age_dictionary={\"age\":[\"sum\", \"max\"]}\n",
    "dictionary_agg=data.agg(age_dictionary)\n",
    "dictionary_agg"
   ]
  },
  {
   "cell_type": "markdown",
   "id": "c6e1283b",
   "metadata": {},
   "source": [
    "1. What if we want to look at more than one column at a time?  We pass more dictionaries to the agg function.\n",
    "1. Create a variable to hold at least 3 columns.  Use the syntax from the \"Syntax Example\" as a guide.\n",
    "    - Aggregate the following:  survived: \"sum\" & \"count\"; age: \"std\" & \"min\", and sibsp: \"count\" & \"sum\""
   ]
  },
  {
   "cell_type": "code",
   "execution_count": 43,
   "id": "2c7f1c6e",
   "metadata": {},
   "outputs": [
    {
     "data": {
      "text/html": [
       "<div>\n",
       "<style scoped>\n",
       "    .dataframe tbody tr th:only-of-type {\n",
       "        vertical-align: middle;\n",
       "    }\n",
       "\n",
       "    .dataframe tbody tr th {\n",
       "        vertical-align: top;\n",
       "    }\n",
       "\n",
       "    .dataframe thead th {\n",
       "        text-align: right;\n",
       "    }\n",
       "</style>\n",
       "<table border=\"1\" class=\"dataframe\">\n",
       "  <thead>\n",
       "    <tr style=\"text-align: right;\">\n",
       "      <th></th>\n",
       "      <th>survived</th>\n",
       "      <th>age</th>\n",
       "      <th>sibsp</th>\n",
       "    </tr>\n",
       "  </thead>\n",
       "  <tbody>\n",
       "    <tr>\n",
       "      <th>sum</th>\n",
       "      <td>323.0</td>\n",
       "      <td>NaN</td>\n",
       "      <td>410.0</td>\n",
       "    </tr>\n",
       "    <tr>\n",
       "      <th>count</th>\n",
       "      <td>784.0</td>\n",
       "      <td>NaN</td>\n",
       "      <td>784.0</td>\n",
       "    </tr>\n",
       "    <tr>\n",
       "      <th>std</th>\n",
       "      <td>NaN</td>\n",
       "      <td>14.759076</td>\n",
       "      <td>NaN</td>\n",
       "    </tr>\n",
       "    <tr>\n",
       "      <th>min</th>\n",
       "      <td>NaN</td>\n",
       "      <td>0.420000</td>\n",
       "      <td>NaN</td>\n",
       "    </tr>\n",
       "  </tbody>\n",
       "</table>\n",
       "</div>"
      ],
      "text/plain": [
       "       survived        age  sibsp\n",
       "sum       323.0        NaN  410.0\n",
       "count     784.0        NaN  784.0\n",
       "std         NaN  14.759076    NaN\n",
       "min         NaN   0.420000    NaN"
      ]
     },
     "execution_count": 43,
     "metadata": {},
     "output_type": "execute_result"
    }
   ],
   "source": [
    "# Code your dictionary here:\n",
    "col_dictionary = {'survived':['sum','count'],\n",
    "                 'age':['std','min'],\n",
    "                 'sibsp':['count','sum']}\n",
    "dictionary_col_agg = data.agg(col_dictionary)\n",
    "dictionary_col_agg\n",
    "\n"
   ]
  },
  {
   "cell_type": "markdown",
   "id": "297d7169",
   "metadata": {},
   "source": [
    "### 3. Groupby and Basic Math <span style=\"color:dodgerblue;\"> - - - - - - - - - - - - - - - - - - - - - - - - - - - - - - - - - - - - - - - - - - - - - - - - - - - </span> \n",
    "\n",
    "1. Groupby \"pclass\".  Make sure you use a variable to hold your grouped data."
   ]
  },
  {
   "cell_type": "code",
   "execution_count": 71,
   "id": "ac154abb",
   "metadata": {},
   "outputs": [
    {
     "data": {
      "text/html": [
       "<div>\n",
       "<style scoped>\n",
       "    .dataframe tbody tr th:only-of-type {\n",
       "        vertical-align: middle;\n",
       "    }\n",
       "\n",
       "    .dataframe tbody tr th {\n",
       "        vertical-align: top;\n",
       "    }\n",
       "\n",
       "    .dataframe thead th {\n",
       "        text-align: right;\n",
       "    }\n",
       "</style>\n",
       "<table border=\"1\" class=\"dataframe\">\n",
       "  <thead>\n",
       "    <tr style=\"text-align: right;\">\n",
       "      <th></th>\n",
       "      <th>survived</th>\n",
       "      <th>sex</th>\n",
       "      <th>age</th>\n",
       "      <th>sibsp</th>\n",
       "      <th>parch</th>\n",
       "      <th>fare</th>\n",
       "      <th>embarked</th>\n",
       "      <th>class</th>\n",
       "      <th>who</th>\n",
       "      <th>adult_male</th>\n",
       "      <th>deck</th>\n",
       "      <th>embark_town</th>\n",
       "      <th>alive</th>\n",
       "      <th>alone</th>\n",
       "    </tr>\n",
       "    <tr>\n",
       "      <th>pclass</th>\n",
       "      <th></th>\n",
       "      <th></th>\n",
       "      <th></th>\n",
       "      <th></th>\n",
       "      <th></th>\n",
       "      <th></th>\n",
       "      <th></th>\n",
       "      <th></th>\n",
       "      <th></th>\n",
       "      <th></th>\n",
       "      <th></th>\n",
       "      <th></th>\n",
       "      <th></th>\n",
       "      <th></th>\n",
       "    </tr>\n",
       "  </thead>\n",
       "  <tbody>\n",
       "    <tr>\n",
       "      <th>1</th>\n",
       "      <td>1</td>\n",
       "      <td>female</td>\n",
       "      <td>38.0</td>\n",
       "      <td>1</td>\n",
       "      <td>0</td>\n",
       "      <td>71.2833</td>\n",
       "      <td>C</td>\n",
       "      <td>First</td>\n",
       "      <td>woman</td>\n",
       "      <td>False</td>\n",
       "      <td>C</td>\n",
       "      <td>Cherbourg</td>\n",
       "      <td>yes</td>\n",
       "      <td>False</td>\n",
       "    </tr>\n",
       "    <tr>\n",
       "      <th>2</th>\n",
       "      <td>1</td>\n",
       "      <td>female</td>\n",
       "      <td>14.0</td>\n",
       "      <td>1</td>\n",
       "      <td>0</td>\n",
       "      <td>30.0708</td>\n",
       "      <td>C</td>\n",
       "      <td>Second</td>\n",
       "      <td>child</td>\n",
       "      <td>False</td>\n",
       "      <td>D</td>\n",
       "      <td>Cherbourg</td>\n",
       "      <td>yes</td>\n",
       "      <td>False</td>\n",
       "    </tr>\n",
       "    <tr>\n",
       "      <th>3</th>\n",
       "      <td>0</td>\n",
       "      <td>male</td>\n",
       "      <td>22.0</td>\n",
       "      <td>1</td>\n",
       "      <td>0</td>\n",
       "      <td>7.2500</td>\n",
       "      <td>S</td>\n",
       "      <td>Third</td>\n",
       "      <td>man</td>\n",
       "      <td>True</td>\n",
       "      <td>G</td>\n",
       "      <td>Southampton</td>\n",
       "      <td>no</td>\n",
       "      <td>False</td>\n",
       "    </tr>\n",
       "  </tbody>\n",
       "</table>\n",
       "</div>"
      ],
      "text/plain": [
       "        survived     sex   age  sibsp  parch     fare embarked   class    who  \\\n",
       "pclass                                                                          \n",
       "1              1  female  38.0      1      0  71.2833        C   First  woman   \n",
       "2              1  female  14.0      1      0  30.0708        C  Second  child   \n",
       "3              0    male  22.0      1      0   7.2500        S   Third    man   \n",
       "\n",
       "        adult_male deck  embark_town alive  alone  \n",
       "pclass                                             \n",
       "1            False    C    Cherbourg   yes  False  \n",
       "2            False    D    Cherbourg   yes  False  \n",
       "3             True    G  Southampton    no  False  "
      ]
     },
     "execution_count": 71,
     "metadata": {},
     "output_type": "execute_result"
    }
   ],
   "source": [
    "# Code your groupby here:\n",
    "grouped_pclass = data.groupby('pclass')\n",
    "\n",
    "# Run your table using first() here instead of head():\n",
    "grouped_pclass.first()"
   ]
  },
  {
   "cell_type": "markdown",
   "id": "b5b8a0be",
   "metadata": {},
   "source": [
    "### 4. Groupby and Multiple Aggregations <span style=\"color:dodgerblue;\"> - - - - - - - - - - - - - - - - - - - - - - - - - - - - - - - - - - - - - - - - - - - - - - - - - - - </span> "
   ]
  },
  {
   "cell_type": "markdown",
   "id": "83b74e40",
   "metadata": {},
   "source": [
    "#### Group with a List<span style=\"color:dodgerblue;\"> - - - - - - - - - - - - - - - - - - - - - - - - - - - - - - - - - - - - - - - - - - - - - - - - - - - </span>"
   ]
  },
  {
   "cell_type": "markdown",
   "id": "85d1655c",
   "metadata": {},
   "source": [
    "1. We want to do muliple aggregation functions to our newly grouped data set.  We created a variable to hold a list of functions we want to perform.  These functions are part of the agg method.  When we pass our list to the method, the method will iterate through each item and perform that function for the entire table."
   ]
  },
  {
   "cell_type": "code",
   "execution_count": 74,
   "id": "d79b7b1d",
   "metadata": {},
   "outputs": [],
   "source": [
    "# our list of functions\n",
    "agg_func_list = ['sum', 'mean', 'median', 'min', 'max', 'std', 'var', 'first', 'last', 'count']\n",
    "\n",
    "#grouped_pclass.agg(agg_func_list)\n",
    "#Apply the agg method to our passenger_class variable (made in the Groupby Basic Math section).\n",
    "#cols_agg = grouped_pclass.agg(['sum', 'mean', 'median', 'min', 'max', 'std', 'var', 'first', 'last', 'count'])\n",
    "# Pass our list to the function and run your table.\n",
    "\n",
    "#cols_agg.first()\n",
    "  "
   ]
  },
  {
   "cell_type": "markdown",
   "id": "e734b183",
   "metadata": {},
   "source": [
    "#### Group with a Dictionary<span style=\"color:dodgerblue;\"> - - - - - - - - - - - - - - - - - - - - - - - - - - - - - - - - - - - - - - - - - - - - - - - - - - - </span>\n",
    "\n",
    "Using only a list provides us with the entire table.  What if we only want to look at age vs pclass?  \n",
    "\n",
    "we can create a dictionary to hold the age column for us.  The *key* would be the name of our column, and the values our list of functions to preform on that column.  The code would look like this:"
   ]
  },
  {
   "cell_type": "code",
   "execution_count": 70,
   "id": "460c85da",
   "metadata": {},
   "outputs": [
    {
     "data": {
      "text/html": [
       "<div>\n",
       "<style scoped>\n",
       "    .dataframe tbody tr th:only-of-type {\n",
       "        vertical-align: middle;\n",
       "    }\n",
       "\n",
       "    .dataframe tbody tr th {\n",
       "        vertical-align: top;\n",
       "    }\n",
       "\n",
       "    .dataframe thead tr th {\n",
       "        text-align: left;\n",
       "    }\n",
       "\n",
       "    .dataframe thead tr:last-of-type th {\n",
       "        text-align: right;\n",
       "    }\n",
       "</style>\n",
       "<table border=\"1\" class=\"dataframe\">\n",
       "  <thead>\n",
       "    <tr>\n",
       "      <th></th>\n",
       "      <th colspan=\"10\" halign=\"left\">age</th>\n",
       "    </tr>\n",
       "    <tr>\n",
       "      <th></th>\n",
       "      <th>sum</th>\n",
       "      <th>mean</th>\n",
       "      <th>median</th>\n",
       "      <th>min</th>\n",
       "      <th>max</th>\n",
       "      <th>std</th>\n",
       "      <th>var</th>\n",
       "      <th>first</th>\n",
       "      <th>last</th>\n",
       "      <th>count</th>\n",
       "    </tr>\n",
       "    <tr>\n",
       "      <th>pclass</th>\n",
       "      <th></th>\n",
       "      <th></th>\n",
       "      <th></th>\n",
       "      <th></th>\n",
       "      <th></th>\n",
       "      <th></th>\n",
       "      <th></th>\n",
       "      <th></th>\n",
       "      <th></th>\n",
       "      <th></th>\n",
       "    </tr>\n",
       "  </thead>\n",
       "  <tbody>\n",
       "    <tr>\n",
       "      <th>1</th>\n",
       "      <td>7087.42</td>\n",
       "      <td>38.310378</td>\n",
       "      <td>37.0</td>\n",
       "      <td>0.92</td>\n",
       "      <td>80.0</td>\n",
       "      <td>14.805690</td>\n",
       "      <td>219.208448</td>\n",
       "      <td>38.0</td>\n",
       "      <td>26.0</td>\n",
       "      <td>185</td>\n",
       "    </tr>\n",
       "    <tr>\n",
       "      <th>2</th>\n",
       "      <td>4753.83</td>\n",
       "      <td>29.898302</td>\n",
       "      <td>29.0</td>\n",
       "      <td>0.67</td>\n",
       "      <td>70.0</td>\n",
       "      <td>14.429912</td>\n",
       "      <td>208.222356</td>\n",
       "      <td>14.0</td>\n",
       "      <td>28.0</td>\n",
       "      <td>159</td>\n",
       "    </tr>\n",
       "    <tr>\n",
       "      <th>3</th>\n",
       "      <td>8410.17</td>\n",
       "      <td>25.180150</td>\n",
       "      <td>24.0</td>\n",
       "      <td>0.42</td>\n",
       "      <td>74.0</td>\n",
       "      <td>12.700275</td>\n",
       "      <td>161.296995</td>\n",
       "      <td>22.0</td>\n",
       "      <td>32.0</td>\n",
       "      <td>334</td>\n",
       "    </tr>\n",
       "  </tbody>\n",
       "</table>\n",
       "</div>"
      ],
      "text/plain": [
       "            age                                                             \\\n",
       "            sum       mean median   min   max        std         var first   \n",
       "pclass                                                                       \n",
       "1       7087.42  38.310378   37.0  0.92  80.0  14.805690  219.208448  38.0   \n",
       "2       4753.83  29.898302   29.0  0.67  70.0  14.429912  208.222356  14.0   \n",
       "3       8410.17  25.180150   24.0  0.42  74.0  12.700275  161.296995  22.0   \n",
       "\n",
       "                    \n",
       "        last count  \n",
       "pclass              \n",
       "1       26.0   185  \n",
       "2       28.0   159  \n",
       "3       32.0   334  "
      ]
     },
     "execution_count": 70,
     "metadata": {},
     "output_type": "execute_result"
    }
   ],
   "source": [
    "agg_func_dict = {\n",
    "    'age':\n",
    "    ['sum', 'mean', 'median', 'min', 'max', 'std', 'var', 'first', 'last', 'count']\n",
    "}\n",
    "# We would run our table like this:\n",
    "grouped_pclass.agg(agg_func_dict)  "
   ]
  },
  {
   "cell_type": "markdown",
   "id": "18b17b5f",
   "metadata": {},
   "source": [
    "Looking at the *age_func_dict* syntax, create a dictionary variable for the \"survived\" column and pass it to **passenger_class.agg()** in the box below."
   ]
  },
  {
   "cell_type": "code",
   "execution_count": 75,
   "id": "2b05656e",
   "metadata": {},
   "outputs": [
    {
     "data": {
      "text/html": [
       "<div>\n",
       "<style scoped>\n",
       "    .dataframe tbody tr th:only-of-type {\n",
       "        vertical-align: middle;\n",
       "    }\n",
       "\n",
       "    .dataframe tbody tr th {\n",
       "        vertical-align: top;\n",
       "    }\n",
       "\n",
       "    .dataframe thead tr th {\n",
       "        text-align: left;\n",
       "    }\n",
       "\n",
       "    .dataframe thead tr:last-of-type th {\n",
       "        text-align: right;\n",
       "    }\n",
       "</style>\n",
       "<table border=\"1\" class=\"dataframe\">\n",
       "  <thead>\n",
       "    <tr>\n",
       "      <th></th>\n",
       "      <th colspan=\"3\" halign=\"left\">survived</th>\n",
       "    </tr>\n",
       "    <tr>\n",
       "      <th></th>\n",
       "      <th>count</th>\n",
       "      <th>sum</th>\n",
       "      <th>max</th>\n",
       "    </tr>\n",
       "    <tr>\n",
       "      <th>pclass</th>\n",
       "      <th></th>\n",
       "      <th></th>\n",
       "      <th></th>\n",
       "    </tr>\n",
       "  </thead>\n",
       "  <tbody>\n",
       "    <tr>\n",
       "      <th>1</th>\n",
       "      <td>214</td>\n",
       "      <td>135</td>\n",
       "      <td>1</td>\n",
       "    </tr>\n",
       "    <tr>\n",
       "      <th>2</th>\n",
       "      <td>165</td>\n",
       "      <td>84</td>\n",
       "      <td>1</td>\n",
       "    </tr>\n",
       "    <tr>\n",
       "      <th>3</th>\n",
       "      <td>405</td>\n",
       "      <td>104</td>\n",
       "      <td>1</td>\n",
       "    </tr>\n",
       "  </tbody>\n",
       "</table>\n",
       "</div>"
      ],
      "text/plain": [
       "       survived         \n",
       "          count  sum max\n",
       "pclass                  \n",
       "1           214  135   1\n",
       "2           165   84   1\n",
       "3           405  104   1"
      ]
     },
     "execution_count": 75,
     "metadata": {},
     "output_type": "execute_result"
    }
   ],
   "source": [
    "# Code it here:\n",
    "agg_survived_dict = {'survived':['count','sum','max']}\n",
    "grouped_pclass.agg(agg_survived_dict)\n",
    "\n",
    "\n"
   ]
  },
  {
   "cell_type": "markdown",
   "id": "4a224518",
   "metadata": {},
   "source": [
    "<span style=\"background-color:dodgerblue; color:dodgerblue;\">- - - - - - - - - - - - - - - - - - - - - - - - - - - - - - - - - - - - - - - - - - - - - - - - - - - - - - - - - - - - - - - - - - - - - - - - - - - - - - - - - - - - - - - - -</span> "
   ]
  },
  {
   "cell_type": "markdown",
   "id": "7e825467",
   "metadata": {},
   "source": [
    "# B. Recoding and Creating New Values and Variables \n",
    "\n",
    "1. Please read the following:\n",
    "    1. [How to create new columns derived from existing columns?](https://pandas.pydata.org/docs/getting_started/intro_tutorials/05_add_columns.html)\n",
    "    1.[Recode Data](https://pythonfordatascienceorg.wordpress.com/recode-data/)\n",
    "1. Answer the Check Your Understanding questions in your Canvas Account.\n",
    "1. Work through the Part B, there are 2 sections\n",
    "\n",
    "Suggested Reading:\n",
    "- [How to manipulate textual data?](https://pandas.pydata.org/docs/getting_started/intro_tutorials/10_text_data.html)"
   ]
  },
  {
   "cell_type": "markdown",
   "id": "646f6c33",
   "metadata": {},
   "source": [
    "### Create a New Column <span style=\"color:dodgerblue;\"> - - - - - - - - - - - - - - - - - - - - - - - - - - - - - - - - - - - - - - - - - - - - - - - - - - - </span> \n",
    "As questions arrise during your data exploring and cleaning, you might want to test them out.  In this instance, we want to make sure the values we want to manipulate remain untouched. One thing we can do is to add a new column that will contain our manipulations.\n",
    "\n",
    "In the box below:\n",
    "1. Create a new column by manipulating the values of different column.  Specifically, create a new column, \"fare_2021\" that allows us to compare the cost of fare in pounds back in 1912 to 2021.  [This website](https://www.in2013dollars.com/uk/inflation/1912) can help you find the 2021 fare amount. "
   ]
  },
  {
   "cell_type": "code",
   "execution_count": 81,
   "id": "1d521795",
   "metadata": {},
   "outputs": [],
   "source": [
    "# Code your new \"fare_2021\" column here:\n",
    "# import pandas as pd\n",
    "# df=pd.read_csv('C:\\\\Users\\\\saritha\\\\Downloads\\\\inflation_data.csv')\n",
    "# df.head()\n",
    "# df['fare_2021']=df['year'2021]\n",
    "# df['fare_2021']\n",
    "\n",
    "#Run the head of your table to see your new column:\n"
   ]
  },
  {
   "cell_type": "markdown",
   "id": "a944618b",
   "metadata": {},
   "source": [
    "### Replacing Values <span style=\"color:dodgerblue;\"> - - - - - - - - - - - - - - - - - - - - - - - - - - - - - - - - - - - - - - - - - - - - - - - - - - - </span> \n",
    " \n",
    "Replace the values in the \"alive\" coloum from string \"yes\" or \"no\" to bools, where \"yes\" becomes True and \"no\" becomes False."
   ]
  },
  {
   "cell_type": "code",
   "execution_count": 101,
   "id": "5aa29ad3",
   "metadata": {},
   "outputs": [
    {
     "data": {
      "text/plain": [
       "0       no\n",
       "1      yes\n",
       "2      yes\n",
       "3      yes\n",
       "4       no\n",
       "      ... \n",
       "885     no\n",
       "887    yes\n",
       "888     no\n",
       "889    yes\n",
       "890     no\n",
       "Name: replaced_alive, Length: 784, dtype: object"
      ]
     },
     "execution_count": 101,
     "metadata": {},
     "output_type": "execute_result"
    }
   ],
   "source": [
    "# Code your updated values here:\n",
    "data['replaced_alive'] = data['alive'].replace({'True':'yes','False':'no'})\n",
    "data.replaced_alive"
   ]
  },
  {
   "cell_type": "markdown",
   "id": "961d7e60",
   "metadata": {},
   "source": [
    "We can also use functions to update values.\n",
    "\n",
    "1. Create a function that will set the alive values as bools. Apply it to your table and run your table here:"
   ]
  },
  {
   "cell_type": "code",
   "execution_count": 102,
   "id": "6b14b0ee",
   "metadata": {},
   "outputs": [
    {
     "data": {
      "text/plain": [
       "0       no\n",
       "1      yes\n",
       "2      yes\n",
       "3      yes\n",
       "4       no\n",
       "      ... \n",
       "885     no\n",
       "887    yes\n",
       "888     no\n",
       "889    yes\n",
       "890     no\n",
       "Name: alive, Length: 784, dtype: object"
      ]
     },
     "execution_count": 102,
     "metadata": {},
     "output_type": "execute_result"
    }
   ],
   "source": [
    "# Code your function here:\n",
    "data['alive']"
   ]
  },
  {
   "cell_type": "markdown",
   "id": "6a830345",
   "metadata": {},
   "source": [
    "### Using a function to create a new column <span style=\"color:dodgerblue;\"> - - - - - - - - - - - - - - - - - - - - - - - - - - - - - - - - - - - - - - - - - - - - - - - - - - - </span> \n",
    "\n",
    "Sometimes you might want to create a new column based on combining multiple columns together.\n",
    "\n",
    "1. create an \"age_group\" column that breaks years up as 0-19, 20-29, 30-39, etc until all given ages are covered.  Make sure you check to see where you can stop counting by 10s."
   ]
  },
  {
   "cell_type": "code",
   "execution_count": 114,
   "id": "ca1e0dee",
   "metadata": {},
   "outputs": [],
   "source": [
    "# Write your max age check here:\n",
    "aged_grp = data.groupby('age')\n"
   ]
  },
  {
   "cell_type": "code",
   "execution_count": 22,
   "id": "9061858c",
   "metadata": {},
   "outputs": [],
   "source": [
    "# Code the new \"age_group\" column function here:\n",
    "\n"
   ]
  },
  {
   "cell_type": "markdown",
   "id": "9a64ca65",
   "metadata": {},
   "source": [
    "<span style=\"background-color:dodgerblue; color:dodgerblue;\">- - - - - - - - - - - - - - - - - - - - - - - - - - - - - - - - - - - - - - - - - - - - - - - - - - - - - - - - - - - - - - - - - - - - - - - - - - - - - - - - - - - - - - - - -</span> "
   ]
  },
  {
   "cell_type": "markdown",
   "id": "5760d2ed",
   "metadata": {},
   "source": [
    "# C. Reshaping Tables\n",
    "\n",
    "1. Please read the following:\n",
    "    1. [How to reshape the layout of tables?](https://pandas.pydata.org/docs/getting_started/intro_tutorials/07_reshape_table_layout.html)\n",
    "1. Answer the Check Your Understanding in your Canvas account\n",
    "1. Work through Part C, there are 4 sections\n",
    "\n",
    "\n",
    "Suggested Reading:\n",
    "1. [pandas.pivot_table](https://pandas.pydata.org/docs/reference/api/pandas.pivot_table.html)\n",
    "1. [pandas.melt](https://pandas.pydata.org/docs/reference/api/pandas.melt.html)\n",
    "1. [pandas.pivot](https://pandas.pydata.org/docs/reference/api/pandas.pivot.html)"
   ]
  },
  {
   "cell_type": "markdown",
   "id": "9f6ceef3",
   "metadata": {},
   "source": [
    "### Sort_values <span style=\"color:dodgerblue;\"> - - - - - - - - - - - - - - - - - - - - - - - - - - - - - - - - - - - - - - - - - - - - - - - - - - - </span> "
   ]
  },
  {
   "cell_type": "markdown",
   "id": "268ddc8a",
   "metadata": {},
   "source": [
    "Use **sort_values()** to answer the following question:\n",
    "> What is the age of the person who paid the highest fare?\n",
    "\n",
    "Hint: We want to see the highest fare value first. What order would we want? ascending or descending?  Check the [documentation](https://pandas.pydata.org/docs/reference/api/pandas.DataFrame.sort_values.html?highlight=sort_values#pandas.DataFrame.sort_values) for the syntax."
   ]
  },
  {
   "cell_type": "code",
   "execution_count": 125,
   "id": "21b3a95e",
   "metadata": {},
   "outputs": [
    {
     "ename": "TypeError",
     "evalue": "unhashable type: 'list'",
     "output_type": "error",
     "traceback": [
      "\u001b[1;31m---------------------------------------------------------------------------\u001b[0m",
      "\u001b[1;31mTypeError\u001b[0m                                 Traceback (most recent call last)",
      "\u001b[1;32m~\\AppData\\Local\\Temp\\ipykernel_1504\\3617289199.py\u001b[0m in \u001b[0;36m?\u001b[1;34m()\u001b[0m\n\u001b[1;32m----> 5\u001b[1;33m \u001b[1;31m# Code your sort_values here:\u001b[0m\u001b[1;33m\u001b[0m\u001b[1;33m\u001b[0m\u001b[1;33m\u001b[0m\u001b[0m\n\u001b[0m\u001b[0;32m      6\u001b[0m \u001b[0mhighpaid\u001b[0m \u001b[1;33m=\u001b[0m \u001b[0mdata\u001b[0m\u001b[1;33m.\u001b[0m\u001b[0msort_values\u001b[0m\u001b[1;33m(\u001b[0m\u001b[0mby\u001b[0m\u001b[1;33m=\u001b[0m\u001b[1;34m'fare'\u001b[0m\u001b[1;33m,\u001b[0m\u001b[0mascending\u001b[0m\u001b[1;33m=\u001b[0m\u001b[1;32mFalse\u001b[0m\u001b[1;33m)\u001b[0m\u001b[1;33m.\u001b[0m\u001b[0mhead\u001b[0m\u001b[1;33m(\u001b[0m\u001b[1;36m3\u001b[0m\u001b[1;33m)\u001b[0m\u001b[1;33m\u001b[0m\u001b[1;33m\u001b[0m\u001b[0m\n\u001b[0;32m      7\u001b[0m \u001b[0mhighpaid\u001b[0m\u001b[1;33m\u001b[0m\u001b[1;33m\u001b[0m\u001b[0m\n\u001b[0;32m      8\u001b[0m \u001b[1;31m# Run your table here:\u001b[0m\u001b[1;33m\u001b[0m\u001b[1;33m\u001b[0m\u001b[1;33m\u001b[0m\u001b[0m\n",
      "\u001b[1;32mc:\\software\\python\\python39\\lib\\site-packages\\pandas\\core\\indexing.py\u001b[0m in \u001b[0;36m?\u001b[1;34m(self, axis)\u001b[0m\n\u001b[0;32m    675\u001b[0m         \u001b[1;31m# we need to return a copy of ourselves\u001b[0m\u001b[1;33m\u001b[0m\u001b[1;33m\u001b[0m\u001b[1;33m\u001b[0m\u001b[0m\n\u001b[0;32m    676\u001b[0m         \u001b[0mnew_self\u001b[0m \u001b[1;33m=\u001b[0m \u001b[0mtype\u001b[0m\u001b[1;33m(\u001b[0m\u001b[0mself\u001b[0m\u001b[1;33m)\u001b[0m\u001b[1;33m(\u001b[0m\u001b[0mself\u001b[0m\u001b[1;33m.\u001b[0m\u001b[0mname\u001b[0m\u001b[1;33m,\u001b[0m \u001b[0mself\u001b[0m\u001b[1;33m.\u001b[0m\u001b[0mobj\u001b[0m\u001b[1;33m)\u001b[0m\u001b[1;33m\u001b[0m\u001b[1;33m\u001b[0m\u001b[0m\n\u001b[0;32m    677\u001b[0m \u001b[1;33m\u001b[0m\u001b[0m\n\u001b[0;32m    678\u001b[0m         \u001b[1;32mif\u001b[0m \u001b[0maxis\u001b[0m \u001b[1;32mis\u001b[0m \u001b[1;32mnot\u001b[0m \u001b[1;32mNone\u001b[0m\u001b[1;33m:\u001b[0m\u001b[1;33m\u001b[0m\u001b[1;33m\u001b[0m\u001b[0m\n\u001b[1;32m--> 679\u001b[1;33m             \u001b[0maxis_int_none\u001b[0m \u001b[1;33m=\u001b[0m \u001b[0mself\u001b[0m\u001b[1;33m.\u001b[0m\u001b[0mobj\u001b[0m\u001b[1;33m.\u001b[0m\u001b[0m_get_axis_number\u001b[0m\u001b[1;33m(\u001b[0m\u001b[0maxis\u001b[0m\u001b[1;33m)\u001b[0m\u001b[1;33m\u001b[0m\u001b[1;33m\u001b[0m\u001b[0m\n\u001b[0m\u001b[0;32m    680\u001b[0m         \u001b[1;32melse\u001b[0m\u001b[1;33m:\u001b[0m\u001b[1;33m\u001b[0m\u001b[1;33m\u001b[0m\u001b[0m\n\u001b[0;32m    681\u001b[0m             \u001b[0maxis_int_none\u001b[0m \u001b[1;33m=\u001b[0m \u001b[0maxis\u001b[0m\u001b[1;33m\u001b[0m\u001b[1;33m\u001b[0m\u001b[0m\n\u001b[0;32m    682\u001b[0m         \u001b[0mnew_self\u001b[0m\u001b[1;33m.\u001b[0m\u001b[0maxis\u001b[0m \u001b[1;33m=\u001b[0m \u001b[0maxis_int_none\u001b[0m\u001b[1;33m\u001b[0m\u001b[1;33m\u001b[0m\u001b[0m\n",
      "\u001b[1;32mc:\\software\\python\\python39\\lib\\site-packages\\pandas\\core\\generic.py\u001b[0m in \u001b[0;36m?\u001b[1;34m(cls, axis)\u001b[0m\n\u001b[0;32m    511\u001b[0m     \u001b[1;32mdef\u001b[0m \u001b[0m_get_axis_number\u001b[0m\u001b[1;33m(\u001b[0m\u001b[0mcls\u001b[0m\u001b[1;33m,\u001b[0m \u001b[0maxis\u001b[0m\u001b[1;33m:\u001b[0m \u001b[0mAxis\u001b[0m\u001b[1;33m)\u001b[0m \u001b[1;33m->\u001b[0m \u001b[0mAxisInt\u001b[0m\u001b[1;33m:\u001b[0m\u001b[1;33m\u001b[0m\u001b[1;33m\u001b[0m\u001b[0m\n\u001b[0;32m    512\u001b[0m         \u001b[1;32mtry\u001b[0m\u001b[1;33m:\u001b[0m\u001b[1;33m\u001b[0m\u001b[1;33m\u001b[0m\u001b[0m\n\u001b[0;32m    513\u001b[0m             \u001b[1;32mreturn\u001b[0m \u001b[0mcls\u001b[0m\u001b[1;33m.\u001b[0m\u001b[0m_AXIS_TO_AXIS_NUMBER\u001b[0m\u001b[1;33m[\u001b[0m\u001b[0maxis\u001b[0m\u001b[1;33m]\u001b[0m\u001b[1;33m\u001b[0m\u001b[1;33m\u001b[0m\u001b[0m\n\u001b[0;32m    514\u001b[0m         \u001b[1;32mexcept\u001b[0m \u001b[0mKeyError\u001b[0m\u001b[1;33m:\u001b[0m\u001b[1;33m\u001b[0m\u001b[1;33m\u001b[0m\u001b[0m\n\u001b[1;32m--> 515\u001b[1;33m             \u001b[1;32mraise\u001b[0m \u001b[0mValueError\u001b[0m\u001b[1;33m(\u001b[0m\u001b[1;34mf\"No axis named {axis} for object type {cls.__name__}\"\u001b[0m\u001b[1;33m)\u001b[0m\u001b[1;33m\u001b[0m\u001b[1;33m\u001b[0m\u001b[0m\n\u001b[0m",
      "\u001b[1;31mTypeError\u001b[0m: unhashable type: 'list'"
     ]
    }
   ],
   "source": [
    "# Code your sort_values here:\n",
    "highpaid = data.sort_values(by='fare',ascending=False).head(3)\n",
    "highpaid\n",
    "# Run your table here:\n",
    "#data.iloc([737])"
   ]
  },
  {
   "cell_type": "markdown",
   "id": "0a5d0d2c",
   "metadata": {},
   "source": [
    "### pivot_table <span style=\"color:dodgerblue;\"> - - - - - - - - - - - - - - - - - - - - - - - - - - - - - - - - - - - - - - - - - - - - - - - - - - - </span> \n",
    "1. pivot the table of the summed data where the values are \"fare\", index is \"who\" and \"age_group\", and the columns are \"survived\"\n",
    "\n",
    "Hint: set the aggfunc parameter to np.sum\n",
    "\n",
    "\n"
   ]
  },
  {
   "cell_type": "code",
   "execution_count": 24,
   "id": "74b19d7f",
   "metadata": {},
   "outputs": [],
   "source": [
    "# Code your pivot_table here:\n",
    "\n",
    "\n",
    "# Run your table here:\n"
   ]
  },
  {
   "cell_type": "markdown",
   "id": "3863d61c",
   "metadata": {},
   "source": [
    "### Wide to Long <span style=\"color:dodgerblue;\"> - - - - - - - - - - - - - - - - - - - - - - - - - - - - - - - - - - - - - - - - - - - - - - - - - - - </span> \n",
    "\n",
    "1. Create a table where the columns are \"who\" and the values are \"pclass\"\n",
    "1. Answer the question:  How does this table differ from the pivot_table above?  Specifically, how is \"who\" different?"
   ]
  },
  {
   "cell_type": "code",
   "execution_count": 25,
   "id": "c6f05a93",
   "metadata": {},
   "outputs": [],
   "source": [
    "# Code your table here:\n",
    "\n",
    "\n",
    "# Run your table here:\n",
    "\n",
    "\n",
    "# Answer the question here:\n",
    "\n"
   ]
  },
  {
   "cell_type": "markdown",
   "id": "854e4b22",
   "metadata": {},
   "source": [
    "### Melt <span style=\"color:dodgerblue;\"> - - - - - - - - - - - - - - - - - - - - - - - - - - - - - - - - - - - - - - - - - - - - - - - - - - - </span> "
   ]
  },
  {
   "cell_type": "markdown",
   "id": "40521afb",
   "metadata": {},
   "source": [
    "1.  What does **melt** to the data? "
   ]
  },
  {
   "cell_type": "code",
   "execution_count": 26,
   "id": "361a2ac1",
   "metadata": {},
   "outputs": [],
   "source": [
    "# What does melt do?\n"
   ]
  },
  {
   "cell_type": "markdown",
   "id": "0a9f586c",
   "metadata": {},
   "source": [
    "2. Melt to your data.  Be sure to store the output in a new variable.  What is the new shape of your table?"
   ]
  },
  {
   "cell_type": "code",
   "execution_count": 27,
   "id": "056ee34b",
   "metadata": {},
   "outputs": [],
   "source": [
    "# Create your default melt table here with the following syntax:  new_name = pd.melt(data_set)\n",
    "\n",
    "# Run your table here:\n",
    "\n",
    "# Check the shape of your new table.\n"
   ]
  },
  {
   "cell_type": "markdown",
   "id": "2b203e5c",
   "metadata": {},
   "source": [
    "3. Create a melt table where the index variables are \"embarked\", and the values are \"fare\" and \"deck\""
   ]
  },
  {
   "cell_type": "code",
   "execution_count": 28,
   "id": "49dddb6f",
   "metadata": {},
   "outputs": [],
   "source": [
    "# Create your melt table here:\n",
    "\n",
    "# Run your table here:\n",
    "\n",
    "# Check the shape\n"
   ]
  },
  {
   "cell_type": "markdown",
   "id": "ed3c7217",
   "metadata": {},
   "source": [
    "# Optonal Challenges:\n",
    "\n",
    "1. Clean and Explore the table.  \n",
    "    1. How would you handle any missing data?\n",
    "    1. Would you keep all of the columns?\n",
    "    1. Would you want to manipulate any data?"
   ]
  },
  {
   "cell_type": "code",
   "execution_count": null,
   "id": "6b2b3f82",
   "metadata": {},
   "outputs": [],
   "source": []
  }
 ],
 "metadata": {
  "kernelspec": {
   "display_name": "Python 3 (ipykernel)",
   "language": "python",
   "name": "python3"
  },
  "language_info": {
   "codemirror_mode": {
    "name": "ipython",
    "version": 3
   },
   "file_extension": ".py",
   "mimetype": "text/x-python",
   "name": "python",
   "nbconvert_exporter": "python",
   "pygments_lexer": "ipython3",
   "version": "3.9.4"
  }
 },
 "nbformat": 4,
 "nbformat_minor": 5
}
